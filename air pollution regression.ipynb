{
 "cells": [
  {
   "cell_type": "code",
   "execution_count": 1,
   "metadata": {
    "collapsed": true
   },
   "outputs": [],
   "source": [
    "import numpy as np\n",
    "import pandas as pd\n",
    "import matplotlib.pyplot as plt"
   ]
  },
  {
   "cell_type": "code",
   "execution_count": 2,
   "metadata": {
    "collapsed": true
   },
   "outputs": [],
   "source": [
    "X=pd.read_csv(r\"C:\\Users\\KIIT\\Desktop\\projects\\air pollution regression/train.csv\")"
   ]
  },
  {
   "cell_type": "code",
   "execution_count": 3,
   "metadata": {
    "collapsed": false
   },
   "outputs": [
    {
     "name": "stdout",
     "output_type": "stream",
     "text": [
      "[[  2.93416239e-01  -9.45598713e-01  -4.21105147e-01   4.06816021e-01\n",
      "    5.25661832e-01  -8.21546666e+01]\n",
      " [ -8.36084081e-01  -1.89228039e-01  -7.76402618e-01  -1.05383124e+00\n",
      "    5.97996852e-01  -4.88979602e+01]\n",
      " [  2.36425114e-01   1.32836018e-01  -1.47722982e-01   6.99853963e-01\n",
      "   -1.87364163e-01   7.72703707e+01]\n",
      " ..., \n",
      " [  1.04417694e+00  -8.99206485e-01   1.73039905e+00  -1.87105676e+00\n",
      "    4.42519647e-01  -1.07510508e+02]\n",
      " [ -1.26917290e+00  -5.05215916e-03   1.85766873e+00  -1.08036482e+00\n",
      "    7.36333937e-01  -4.73415578e+01]\n",
      " [ -1.88400025e+00  -8.49427430e-01  -1.45227035e+00   4.88613076e-01\n",
      "    1.45957580e+00  -1.15939003e+02]]\n",
      "[ -82.15466656  -48.89796018   77.2703707  ..., -107.51050797  -47.34155781\n",
      " -115.93900296]\n"
     ]
    }
   ],
   "source": [
    "X=X.values\n",
    "x=X[:,:5]\n",
    "print(X)\n",
    "y=X[:,5]\n",
    "print(y)"
   ]
  },
  {
   "cell_type": "code",
   "execution_count": 4,
   "metadata": {
    "collapsed": false
   },
   "outputs": [],
   "source": [
    "data=pd.DataFrame(x)"
   ]
  },
  {
   "cell_type": "code",
   "execution_count": 5,
   "metadata": {
    "collapsed": false
   },
   "outputs": [
    {
     "data": {
      "text/html": [
       "<div>\n",
       "<table border=\"1\" class=\"dataframe\">\n",
       "  <thead>\n",
       "    <tr style=\"text-align: right;\">\n",
       "      <th></th>\n",
       "      <th>0</th>\n",
       "      <th>1</th>\n",
       "      <th>2</th>\n",
       "      <th>3</th>\n",
       "      <th>4</th>\n",
       "    </tr>\n",
       "  </thead>\n",
       "  <tbody>\n",
       "    <tr>\n",
       "      <th>0</th>\n",
       "      <td>0.293416</td>\n",
       "      <td>-0.945599</td>\n",
       "      <td>-0.421105</td>\n",
       "      <td>0.406816</td>\n",
       "      <td>0.525662</td>\n",
       "    </tr>\n",
       "    <tr>\n",
       "      <th>1</th>\n",
       "      <td>-0.836084</td>\n",
       "      <td>-0.189228</td>\n",
       "      <td>-0.776403</td>\n",
       "      <td>-1.053831</td>\n",
       "      <td>0.597997</td>\n",
       "    </tr>\n",
       "    <tr>\n",
       "      <th>2</th>\n",
       "      <td>0.236425</td>\n",
       "      <td>0.132836</td>\n",
       "      <td>-0.147723</td>\n",
       "      <td>0.699854</td>\n",
       "      <td>-0.187364</td>\n",
       "    </tr>\n",
       "    <tr>\n",
       "      <th>3</th>\n",
       "      <td>0.175312</td>\n",
       "      <td>0.143194</td>\n",
       "      <td>-0.581111</td>\n",
       "      <td>-0.122107</td>\n",
       "      <td>-1.292168</td>\n",
       "    </tr>\n",
       "    <tr>\n",
       "      <th>4</th>\n",
       "      <td>-1.693011</td>\n",
       "      <td>0.542712</td>\n",
       "      <td>-2.798729</td>\n",
       "      <td>-0.686723</td>\n",
       "      <td>1.244077</td>\n",
       "    </tr>\n",
       "  </tbody>\n",
       "</table>\n",
       "</div>"
      ],
      "text/plain": [
       "          0         1         2         3         4\n",
       "0  0.293416 -0.945599 -0.421105  0.406816  0.525662\n",
       "1 -0.836084 -0.189228 -0.776403 -1.053831  0.597997\n",
       "2  0.236425  0.132836 -0.147723  0.699854 -0.187364\n",
       "3  0.175312  0.143194 -0.581111 -0.122107 -1.292168\n",
       "4 -1.693011  0.542712 -2.798729 -0.686723  1.244077"
      ]
     },
     "execution_count": 5,
     "metadata": {},
     "output_type": "execute_result"
    }
   ],
   "source": [
    "data.head()"
   ]
  },
  {
   "cell_type": "code",
   "execution_count": 6,
   "metadata": {
    "collapsed": false
   },
   "outputs": [
    {
     "name": "stdout",
     "output_type": "stream",
     "text": [
      "(1600, 5)\n"
     ]
    }
   ],
   "source": [
    "print(x.shape)\n",
    "#we can see that there are 1600 rows and 6 features in the training dataset"
   ]
  },
  {
   "cell_type": "code",
   "execution_count": 7,
   "metadata": {
    "collapsed": false
   },
   "outputs": [
    {
     "data": {
      "text/html": [
       "<div>\n",
       "<table border=\"1\" class=\"dataframe\">\n",
       "  <thead>\n",
       "    <tr style=\"text-align: right;\">\n",
       "      <th></th>\n",
       "      <th>0</th>\n",
       "      <th>1</th>\n",
       "      <th>2</th>\n",
       "      <th>3</th>\n",
       "      <th>4</th>\n",
       "    </tr>\n",
       "  </thead>\n",
       "  <tbody>\n",
       "    <tr>\n",
       "      <th>count</th>\n",
       "      <td>1600.000000</td>\n",
       "      <td>1600.000000</td>\n",
       "      <td>1600.000000</td>\n",
       "      <td>1600.000000</td>\n",
       "      <td>1600.000000</td>\n",
       "    </tr>\n",
       "    <tr>\n",
       "      <th>mean</th>\n",
       "      <td>0.004114</td>\n",
       "      <td>-0.027604</td>\n",
       "      <td>-0.044459</td>\n",
       "      <td>-0.042408</td>\n",
       "      <td>0.012005</td>\n",
       "    </tr>\n",
       "    <tr>\n",
       "      <th>std</th>\n",
       "      <td>0.997338</td>\n",
       "      <td>1.021776</td>\n",
       "      <td>1.011768</td>\n",
       "      <td>1.017189</td>\n",
       "      <td>0.978654</td>\n",
       "    </tr>\n",
       "    <tr>\n",
       "      <th>min</th>\n",
       "      <td>-3.380125</td>\n",
       "      <td>-3.314844</td>\n",
       "      <td>-3.153118</td>\n",
       "      <td>-3.250169</td>\n",
       "      <td>-2.851707</td>\n",
       "    </tr>\n",
       "    <tr>\n",
       "      <th>25%</th>\n",
       "      <td>-0.647165</td>\n",
       "      <td>-0.705030</td>\n",
       "      <td>-0.706385</td>\n",
       "      <td>-0.709504</td>\n",
       "      <td>-0.615880</td>\n",
       "    </tr>\n",
       "    <tr>\n",
       "      <th>50%</th>\n",
       "      <td>-0.000360</td>\n",
       "      <td>-0.043769</td>\n",
       "      <td>-0.041272</td>\n",
       "      <td>-0.029756</td>\n",
       "      <td>-0.013527</td>\n",
       "    </tr>\n",
       "    <tr>\n",
       "      <th>75%</th>\n",
       "      <td>0.682118</td>\n",
       "      <td>0.645442</td>\n",
       "      <td>0.639130</td>\n",
       "      <td>0.646290</td>\n",
       "      <td>0.650089</td>\n",
       "    </tr>\n",
       "    <tr>\n",
       "      <th>max</th>\n",
       "      <td>3.287205</td>\n",
       "      <td>3.438895</td>\n",
       "      <td>3.216176</td>\n",
       "      <td>2.985410</td>\n",
       "      <td>3.321770</td>\n",
       "    </tr>\n",
       "  </tbody>\n",
       "</table>\n",
       "</div>"
      ],
      "text/plain": [
       "                 0            1            2            3            4\n",
       "count  1600.000000  1600.000000  1600.000000  1600.000000  1600.000000\n",
       "mean      0.004114    -0.027604    -0.044459    -0.042408     0.012005\n",
       "std       0.997338     1.021776     1.011768     1.017189     0.978654\n",
       "min      -3.380125    -3.314844    -3.153118    -3.250169    -2.851707\n",
       "25%      -0.647165    -0.705030    -0.706385    -0.709504    -0.615880\n",
       "50%      -0.000360    -0.043769    -0.041272    -0.029756    -0.013527\n",
       "75%       0.682118     0.645442     0.639130     0.646290     0.650089\n",
       "max       3.287205     3.438895     3.216176     2.985410     3.321770"
      ]
     },
     "execution_count": 7,
     "metadata": {},
     "output_type": "execute_result"
    }
   ],
   "source": [
    "data.describe()"
   ]
  },
  {
   "cell_type": "code",
   "execution_count": 8,
   "metadata": {
    "collapsed": false
   },
   "outputs": [],
   "source": [
    "#normalisation\n",
    "u=np.mean(x,axis=0)\n",
    "std=np.std(x,axis=0)\n",
    "x=(x-u)/std\n",
    "#print(x)"
   ]
  },
  {
   "cell_type": "code",
   "execution_count": 9,
   "metadata": {
    "collapsed": false
   },
   "outputs": [
    {
     "name": "stdout",
     "output_type": "stream",
     "text": [
      "          0         1         2         3         4\n",
      "0  0.290165 -0.898712 -0.372381  0.441771  0.525024\n",
      "1 -0.842705 -0.158229 -0.723656 -0.994642  0.598960\n",
      "2  0.233004  0.157070 -0.102094  0.729947 -0.203782\n",
      "3  0.171708  0.167210 -0.530576 -0.078377 -1.333037\n",
      "4 -1.702188  0.558336 -2.723087 -0.633625  1.259339\n"
     ]
    }
   ],
   "source": [
    "df=pd.DataFrame(x)\n",
    "print(df.head())"
   ]
  },
  {
   "cell_type": "code",
   "execution_count": 10,
   "metadata": {
    "collapsed": false
   },
   "outputs": [
    {
     "data": {
      "image/png": "[encoded data removed]",
      "text/plain": [
       "<matplotlib.figure.Figure at 0x1eee078d9b0>"
      ]
     },
     "metadata": {},
     "output_type": "display_data"
    }
   ],
   "source": [
    "plt.scatter(x[:,4],y)\n",
    "plt.show()\n",
    "#we can only plot one feature of x vs  y as there is only one feature present in the y"
   ]
  },
  {
   "cell_type": "code",
   "execution_count": 11,
   "metadata": {
    "collapsed": false
   },
   "outputs": [
    {
     "name": "stdout",
     "output_type": "stream",
     "text": [
      "(1600, 6)\n"
     ]
    }
   ],
   "source": [
    "ones=np.ones((x.shape[0],1))\n",
    "x=np.hstack((ones,x))\n",
    "print(x.shape)\n",
    "#as you can see earlier there were 5 columns in the x matrix but now as we have added the ones column there are 6 columns present"
   ]
  },
  {
   "cell_type": "code",
   "execution_count": 12,
   "metadata": {
    "collapsed": true
   },
   "outputs": [],
   "source": [
    "def hypothesis(x,theta):\n",
    "    return np.dot(x,theta)\n",
    "\n",
    "def error(x,y,theta):\n",
    "    e = 0.0\n",
    "    y_ = hypothesis(x,theta)\n",
    "    e = np.sum((y-y_)**2)\n",
    "    m=x.shape[0]\n",
    "    \n",
    "    return e/m\n",
    "    \n",
    "def gradient(x,y,theta):\n",
    "    \n",
    "    y_ = hypothesis(x,theta)\n",
    "    grad = np.dot(x.T,(y_ - y))\n",
    "    m = x.shape[0]\n",
    "    return grad/m\n",
    "\n",
    "def gradient_descent(x,y,learning_rate = 0.1,max_iters=300):\n",
    "    \n",
    "    n = x.shape[1]\n",
    "    theta = np.zeros((n,))\n",
    "    error_list = []\n",
    "    \n",
    "    for i in range(max_iters):\n",
    "        e = error(x,y,theta)\n",
    "        error_list.append(e)\n",
    "        \n",
    "        #Gradient descent\n",
    "        grad = gradient(x,y,theta)\n",
    "        theta = theta - learning_rate*grad\n",
    "        \n",
    "    return theta,error_list"
   ]
  },
  {
   "cell_type": "code",
   "execution_count": 13,
   "metadata": {
    "collapsed": false
   },
   "outputs": [
    {
     "name": "stdout",
     "output_type": "stream",
     "text": [
      "the time taken between the start and the ed time is 0.025974750518798828\n"
     ]
    }
   ],
   "source": [
    "import time\n",
    "start=time.time()\n",
    "theta,error_list=gradient_descent(x,y)\n",
    "end_time=time.time()\n",
    "print(\"the time taken between the start and the ed time is\",end_time-start)"
   ]
  },
  {
   "cell_type": "code",
   "execution_count": 14,
   "metadata": {
    "collapsed": false
   },
   "outputs": [
    {
     "data": {
      "text/plain": [
       "array([  0.31883538,  29.59359198,  94.65067706,   8.37544469,\n",
       "        45.52303635,   2.46461552])"
      ]
     },
     "execution_count": 14,
     "metadata": {},
     "output_type": "execute_result"
    }
   ],
   "source": [
    "theta"
   ]
  },
  {
   "cell_type": "code",
   "execution_count": 15,
   "metadata": {
    "collapsed": false
   },
   "outputs": [
    {
     "data": {
      "text/plain": [
       "[12256.130414032896,\n",
       " 10026.033684143073,\n",
       " 8217.0552528176195,\n",
       " 6749.466627013956,\n",
       " 5558.6731870892891,\n",
       " 4592.3340674739929,\n",
       " 3808.0315657917154,\n",
       " 3171.3849608951386,\n",
       " 2654.5237799458382,\n",
       " 2234.8518383481501,\n",
       " 1894.04653113265,\n",
       " 1617.2484830009766,\n",
       " 1392.4052530232816,\n",
       " 1209.7397313936942,\n",
       " 1061.3194764678278,\n",
       " 940.70777623550748,\n",
       " 842.68088586426256,\n",
       " 762.99885867864714,\n",
       " 698.21978653437759,\n",
       " 645.54920573334459,\n",
       " 602.71799423681978,\n",
       " 567.88335592979956,\n",
       " 539.5485154072411,\n",
       " 516.49757853027768,\n",
       " 497.74268728982702,\n",
       " 482.48114259194153,\n",
       " 470.06060992121974,\n",
       " 459.95088023812474,\n",
       " 451.72094792963361,\n",
       " 445.02040210685021,\n",
       " 439.5643175010901,\n",
       " 435.12098512481214,\n",
       " 431.50194759201071,\n",
       " 428.55390508306681,\n",
       " 426.15213988278555,\n",
       " 424.19517385310292,\n",
       " 422.60042706729115,\n",
       " 421.30068951394429,\n",
       " 420.24125320690831,\n",
       " 419.37758077512552,\n",
       " 418.67340992065016,\n",
       " 418.09921205003548,\n",
       " 417.63093873539134,\n",
       " 417.24900212055684,\n",
       " 416.93744550121892,\n",
       " 416.68326851820393,\n",
       " 416.475878069587,\n",
       " 416.30664146076725,\n",
       " 416.16852270834255,\n",
       " 416.05578648494748,\n",
       " 415.96375709353566,\n",
       " 415.8886222169001,\n",
       " 415.82727310380449,\n",
       " 415.7771744099245,\n",
       " 415.73625817723098,\n",
       " 415.70283746416567,\n",
       " 415.67553597535209,\n",
       " 415.65323071970982,\n",
       " 415.63500527894684,\n",
       " 415.62011171830301,\n",
       " 415.60793953738408,\n",
       " 415.59799035668289,\n",
       " 415.58985727765992,\n",
       " 415.58320805142489,\n",
       " 415.57777135153231,\n",
       " 415.5733255770358,\n",
       " 415.56968971829235,\n",
       " 415.56671590459604,\n",
       " 415.56428332323861,\n",
       " 415.56229325701526,\n",
       " 415.56066503397977,\n",
       " 415.55933272135326,\n",
       " 415.55824242654194,\n",
       " 415.55735009351656,\n",
       " 415.55661970342538,\n",
       " 415.55602180511329,\n",
       " 415.55553231492394,\n",
       " 415.55513153632228,\n",
       " 415.55480335898517,\n",
       " 415.55453460443124,\n",
       " 415.55431449131851,\n",
       " 415.55413419847406,\n",
       " 415.55398650775345,\n",
       " 415.55386551211285,\n",
       " 415.5537663769602,\n",
       " 415.55368514503817,\n",
       " 415.55361857688376,\n",
       " 415.55356402036006,\n",
       " 415.55351930395381,\n",
       " 415.55348264949816,\n",
       " 415.55345260077854,\n",
       " 415.55342796512269,\n",
       " 415.55340776560973,\n",
       " 415.55339120196498,\n",
       " 415.55337761855498,\n",
       " 415.55336647819468,\n",
       " 415.55335734070604,\n",
       " 415.55334984536751,\n",
       " 415.55334369654241,\n",
       " 415.55333865191506,\n",
       " 415.55333451285418,\n",
       " 415.55333111652419,\n",
       " 415.55332832942133,\n",
       " 415.55332604208127,\n",
       " 415.5533241647417,\n",
       " 415.55332262379056,\n",
       " 415.55332135885487,\n",
       " 415.55332032041508,\n",
       " 415.55331946785094,\n",
       " 415.55331876783913,\n",
       " 415.55331819304047,\n",
       " 415.55331772102306,\n",
       " 415.55331733338016,\n",
       " 415.55331701500677,\n",
       " 415.55331675350635,\n",
       " 415.55331653870434,\n",
       " 415.55331636224918,\n",
       " 415.55331621728504,\n",
       " 415.55331609818387,\n",
       " 415.55331600032497,\n",
       " 415.55331591991438,\n",
       " 415.55331585383675,\n",
       " 415.55331579953366,\n",
       " 415.5533157549043,\n",
       " 415.55331571822285,\n",
       " 415.55331568807213,\n",
       " 415.55331566328778,\n",
       " 415.55331564291367,\n",
       " 415.55331562616374,\n",
       " 415.55331561239262,\n",
       " 415.55331560106993,\n",
       " 415.55331559175977,\n",
       " 415.55331558410398,\n",
       " 415.55331557780823,\n",
       " 415.55331557263065,\n",
       " 415.55331556837251,\n",
       " 415.55331556487016,\n",
       " 415.55331556198939,\n",
       " 415.5533155596197,\n",
       " 415.55331555767037,\n",
       " 415.55331555606682,\n",
       " 415.55331555474754,\n",
       " 415.55331555366212,\n",
       " 415.55331555276899,\n",
       " 415.55331555203418,\n",
       " 415.55331555142948,\n",
       " 415.55331555093187,\n",
       " 415.55331555052237,\n",
       " 415.55331555018535,\n",
       " 415.55331554990806,\n",
       " 415.55331554967978,\n",
       " 415.55331554949197,\n",
       " 415.55331554933719,\n",
       " 415.55331554920997,\n",
       " 415.55331554910515,\n",
       " 415.55331554901886,\n",
       " 415.55331554894786,\n",
       " 415.55331554888937,\n",
       " 415.55331554884123,\n",
       " 415.55331554880155,\n",
       " 415.55331554876886,\n",
       " 415.55331554874203,\n",
       " 415.55331554871992,\n",
       " 415.55331554870168,\n",
       " 415.55331554868667,\n",
       " 415.55331554867439,\n",
       " 415.5533155486641,\n",
       " 415.5533155486558,\n",
       " 415.55331554864892,\n",
       " 415.55331554864313,\n",
       " 415.55331554863847,\n",
       " 415.55331554863471,\n",
       " 415.55331554863153,\n",
       " 415.55331554862892,\n",
       " 415.55331554862664,\n",
       " 415.55331554862494,\n",
       " 415.55331554862352,\n",
       " 415.55331554862221,\n",
       " 415.55331554862124,\n",
       " 415.55331554862045,\n",
       " 415.55331554861982,\n",
       " 415.5533155486192,\n",
       " 415.5533155486188,\n",
       " 415.5533155486184,\n",
       " 415.55331554861806,\n",
       " 415.55331554861783,\n",
       " 415.55331554861755,\n",
       " 415.55331554861738,\n",
       " 415.55331554861726,\n",
       " 415.55331554861715,\n",
       " 415.55331554861704,\n",
       " 415.55331554861698,\n",
       " 415.55331554861698,\n",
       " 415.55331554861681,\n",
       " 415.55331554861681,\n",
       " 415.55331554861681,\n",
       " 415.55331554861675,\n",
       " 415.55331554861664,\n",
       " 415.55331554861664,\n",
       " 415.55331554861664,\n",
       " 415.55331554861664,\n",
       " 415.55331554861664,\n",
       " 415.55331554861664,\n",
       " 415.55331554861658,\n",
       " 415.55331554861664,\n",
       " 415.55331554861664,\n",
       " 415.55331554861658,\n",
       " 415.55331554861658,\n",
       " 415.55331554861658,\n",
       " 415.55331554861658,\n",
       " 415.55331554861658,\n",
       " 415.55331554861652,\n",
       " 415.55331554861664,\n",
       " 415.55331554861658,\n",
       " 415.55331554861658,\n",
       " 415.55331554861658,\n",
       " 415.55331554861664,\n",
       " 415.55331554861658,\n",
       " 415.55331554861658,\n",
       " 415.55331554861664,\n",
       " 415.55331554861658,\n",
       " 415.55331554861658,\n",
       " 415.55331554861652,\n",
       " 415.55331554861664,\n",
       " 415.55331554861664,\n",
       " 415.55331554861658,\n",
       " 415.55331554861664,\n",
       " 415.55331554861658,\n",
       " 415.55331554861658,\n",
       " 415.55331554861658,\n",
       " 415.55331554861658,\n",
       " 415.55331554861652,\n",
       " 415.55331554861658,\n",
       " 415.55331554861658,\n",
       " 415.55331554861658,\n",
       " 415.55331554861658,\n",
       " 415.55331554861652,\n",
       " 415.55331554861652,\n",
       " 415.55331554861658,\n",
       " 415.55331554861652,\n",
       " 415.55331554861664,\n",
       " 415.55331554861652,\n",
       " 415.55331554861658,\n",
       " 415.55331554861652,\n",
       " 415.55331554861652,\n",
       " 415.55331554861658,\n",
       " 415.55331554861658,\n",
       " 415.55331554861658,\n",
       " 415.55331554861658,\n",
       " 415.55331554861658,\n",
       " 415.55331554861658,\n",
       " 415.55331554861658,\n",
       " 415.55331554861658,\n",
       " 415.55331554861658,\n",
       " 415.55331554861658,\n",
       " 415.55331554861658,\n",
       " 415.55331554861658,\n",
       " 415.55331554861658,\n",
       " 415.55331554861664,\n",
       " 415.55331554861658,\n",
       " 415.55331554861658,\n",
       " 415.55331554861652,\n",
       " 415.55331554861658,\n",
       " 415.55331554861652,\n",
       " 415.55331554861658,\n",
       " 415.55331554861664,\n",
       " 415.55331554861658,\n",
       " 415.55331554861652,\n",
       " 415.55331554861658,\n",
       " 415.55331554861652,\n",
       " 415.55331554861658,\n",
       " 415.55331554861658,\n",
       " 415.55331554861658,\n",
       " 415.55331554861658,\n",
       " 415.55331554861658,\n",
       " 415.55331554861652,\n",
       " 415.55331554861658,\n",
       " 415.55331554861652,\n",
       " 415.55331554861658,\n",
       " 415.55331554861658,\n",
       " 415.55331554861658,\n",
       " 415.55331554861652,\n",
       " 415.55331554861658,\n",
       " 415.55331554861652,\n",
       " 415.55331554861652,\n",
       " 415.55331554861652,\n",
       " 415.55331554861658,\n",
       " 415.55331554861658,\n",
       " 415.55331554861658,\n",
       " 415.55331554861658,\n",
       " 415.55331554861658,\n",
       " 415.55331554861658,\n",
       " 415.55331554861658,\n",
       " 415.55331554861658,\n",
       " 415.55331554861658,\n",
       " 415.55331554861652,\n",
       " 415.55331554861658,\n",
       " 415.55331554861664,\n",
       " 415.55331554861658,\n",
       " 415.55331554861658]"
      ]
     },
     "execution_count": 15,
     "metadata": {},
     "output_type": "execute_result"
    }
   ],
   "source": [
    "error_list"
   ]
  },
  {
   "cell_type": "code",
   "execution_count": 16,
   "metadata": {
    "collapsed": false
   },
   "outputs": [
    {
     "data": {
      "image/png": "[encoded data removed]",
      "text/plain": [
       "<matplotlib.figure.Figure at 0x1eee1b3eda0>"
      ]
     },
     "metadata": {},
     "output_type": "display_data"
    }
   ],
   "source": [
    "plt.plot(error_list)\n",
    "plt.show()"
   ]
  },
  {
   "cell_type": "code",
   "execution_count": 17,
   "metadata": {
    "collapsed": false
   },
   "outputs": [],
   "source": [
    "x_test=pd.read_csv(r'C:\\Users\\KIIT\\Desktop\\projects\\air pollution regression/test.csv')\n"
   ]
  },
  {
   "cell_type": "code",
   "execution_count": 27,
   "metadata": {
    "collapsed": false
   },
   "outputs": [],
   "source": [
    "ones=np.ones((x_test.shape[0],1))\n",
    "x_test=np.hstack((ones,x_test))\n",
    "y_test=hypothesis(x_test,theta)"
   ]
  },
  {
   "cell_type": "code",
   "execution_count": 31,
   "metadata": {
    "collapsed": false
   },
   "outputs": [],
   "source": [
    "y_test=hypothesis(x_test,theta)\n",
    "df=pd.DataFrame(data=y_test,columns=[\"target\"])\n",
    "df.to_csv(\"y_predictions.csv\",index_label=\"Id\")"
   ]
  },
  {
   "cell_type": "code",
   "execution_count": 32,
   "metadata": {
    "collapsed": true
   },
   "outputs": [],
   "source": [
    "#predciting the r_2 score\n",
    "def r2_score(y,y_):\n",
    "    #instead of using the loop we can use the np.sum as it is fast and easier\n",
    "    numerator=np.sum((y-y_)**2)\n",
    "    denominator=np.sum((y-y_.mean())**2)\n",
    "    r2_score=1-(numerator/denominator)\n",
    "    return r2_score"
   ]
  },
  {
   "cell_type": "code",
   "execution_count": 34,
   "metadata": {
    "collapsed": false
   },
   "outputs": [
    {
     "ename": "ValueError",
     "evalue": "operands could not be broadcast together with shapes (1600,) (400,) ",
     "output_type": "error",
     "traceback": [
      "\u001b[0;31m---------------------------------------------------------------------------\u001b[0m",
      "\u001b[0;31mValueError\u001b[0m                                Traceback (most recent call last)",
      "\u001b[0;32m<ipython-input-34-2b664be22279>\u001b[0m in \u001b[0;36m<module>\u001b[0;34m()\u001b[0m\n\u001b[0;32m----> 1\u001b[0;31m \u001b[0mprint\u001b[0m\u001b[1;33m(\u001b[0m\u001b[0mr2_score\u001b[0m\u001b[1;33m(\u001b[0m\u001b[0my\u001b[0m\u001b[1;33m,\u001b[0m\u001b[0my_test\u001b[0m\u001b[1;33m)\u001b[0m\u001b[1;33m*\u001b[0m\u001b[1;36m100\u001b[0m\u001b[1;33m)\u001b[0m\u001b[1;33m\u001b[0m\u001b[0m\n\u001b[0m",
      "\u001b[0;32m<ipython-input-32-ae00299c550a>\u001b[0m in \u001b[0;36mr2_score\u001b[0;34m(y, y_)\u001b[0m\n\u001b[1;32m      2\u001b[0m \u001b[1;32mdef\u001b[0m \u001b[0mr2_score\u001b[0m\u001b[1;33m(\u001b[0m\u001b[0my\u001b[0m\u001b[1;33m,\u001b[0m\u001b[0my_\u001b[0m\u001b[1;33m)\u001b[0m\u001b[1;33m:\u001b[0m\u001b[1;33m\u001b[0m\u001b[0m\n\u001b[1;32m      3\u001b[0m     \u001b[1;31m#instead of using the loop we can use the np.sum as it is fast and easier\u001b[0m\u001b[1;33m\u001b[0m\u001b[1;33m\u001b[0m\u001b[0m\n\u001b[0;32m----> 4\u001b[0;31m     \u001b[0mnumerator\u001b[0m\u001b[1;33m=\u001b[0m\u001b[0mnp\u001b[0m\u001b[1;33m.\u001b[0m\u001b[0msum\u001b[0m\u001b[1;33m(\u001b[0m\u001b[1;33m(\u001b[0m\u001b[0my\u001b[0m\u001b[1;33m-\u001b[0m\u001b[0my_\u001b[0m\u001b[1;33m)\u001b[0m\u001b[1;33m**\u001b[0m\u001b[1;36m2\u001b[0m\u001b[1;33m)\u001b[0m\u001b[1;33m\u001b[0m\u001b[0m\n\u001b[0m\u001b[1;32m      5\u001b[0m     \u001b[0mdenominator\u001b[0m\u001b[1;33m=\u001b[0m\u001b[0mnp\u001b[0m\u001b[1;33m.\u001b[0m\u001b[0msum\u001b[0m\u001b[1;33m(\u001b[0m\u001b[1;33m(\u001b[0m\u001b[0my\u001b[0m\u001b[1;33m-\u001b[0m\u001b[0my_\u001b[0m\u001b[1;33m.\u001b[0m\u001b[0mmean\u001b[0m\u001b[1;33m(\u001b[0m\u001b[1;33m)\u001b[0m\u001b[1;33m)\u001b[0m\u001b[1;33m**\u001b[0m\u001b[1;36m2\u001b[0m\u001b[1;33m)\u001b[0m\u001b[1;33m\u001b[0m\u001b[0m\n\u001b[1;32m      6\u001b[0m     \u001b[0mr2_score\u001b[0m\u001b[1;33m=\u001b[0m\u001b[1;36m1\u001b[0m\u001b[1;33m-\u001b[0m\u001b[1;33m(\u001b[0m\u001b[0mnumerator\u001b[0m\u001b[1;33m/\u001b[0m\u001b[0mdenominator\u001b[0m\u001b[1;33m)\u001b[0m\u001b[1;33m\u001b[0m\u001b[0m\n",
      "\u001b[0;31mValueError\u001b[0m: operands could not be broadcast together with shapes (1600,) (400,) "
     ]
    }
   ],
   "source": []
  }
 ],
 "metadata": {
  "anaconda-cloud": {},
  "kernelspec": {
   "display_name": "Python [default]",
   "language": "python",
   "name": "python3"
  },
  "language_info": {
   "codemirror_mode": {
    "name": "ipython",
    "version": 3
   },
   "file_extension": ".py",
   "mimetype": "text/x-python",
   "name": "python",
   "nbconvert_exporter": "python",
   "pygments_lexer": "ipython3",
   "version": "3.5.2"
  }
 },
 "nbformat": 4,
 "nbformat_minor": 1
}
